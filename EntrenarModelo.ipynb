{
  "nbformat": 4,
  "nbformat_minor": 0,
  "metadata": {
    "colab": {
      "provenance": [],
      "gpuType": "V28",
      "machine_shape": "hm"
    },
    "kernelspec": {
      "name": "python3",
      "display_name": "Python 3"
    },
    "accelerator": "TPU"
  },
  "cells": [
    {
      "cell_type": "markdown",
      "source": [
        "# Instalación versión adeacuada de TensorFlow"
      ],
      "metadata": {
        "id": "nOK3P_66N1o4"
      }
    },
    {
      "cell_type": "code",
      "source": [
        "!pip uninstall tensorflow"
      ],
      "metadata": {
        "id": "y8zVwjXgwc1Z",
        "colab": {
          "base_uri": "https://localhost:8080/"
        },
        "outputId": "23979f52-152a-49db-d98a-cb6b3d8fb947"
      },
      "execution_count": null,
      "outputs": [
        {
          "output_type": "stream",
          "name": "stdout",
          "text": [
            "Found existing installation: tensorflow 2.17.0\n",
            "Uninstalling tensorflow-2.17.0:\n",
            "  Would remove:\n",
            "    /usr/local/bin/import_pb_to_tensorboard\n",
            "    /usr/local/bin/saved_model_cli\n",
            "    /usr/local/bin/tensorboard\n",
            "    /usr/local/bin/tf_upgrade_v2\n",
            "    /usr/local/bin/tflite_convert\n",
            "    /usr/local/bin/toco\n",
            "    /usr/local/bin/toco_from_protos\n",
            "    /usr/local/lib/python3.10/dist-packages/tensorflow-2.17.0.dist-info/*\n",
            "    /usr/local/lib/python3.10/dist-packages/tensorflow/*\n",
            "Proceed (Y/n)? Y\n",
            "  Successfully uninstalled tensorflow-2.17.0\n"
          ]
        }
      ]
    },
    {
      "cell_type": "code",
      "source": [
        "!pip install tensorflow==2.14.0\n"
      ],
      "metadata": {
        "id": "G6TnCu_Nwoao",
        "colab": {
          "base_uri": "https://localhost:8080/"
        },
        "outputId": "c76bea05-6e7f-456c-e683-9247e5f7f26d"
      },
      "execution_count": null,
      "outputs": [
        {
          "output_type": "stream",
          "name": "stdout",
          "text": [
            "Collecting tensorflow==2.14.0\n",
            "  Downloading tensorflow-2.14.0-cp310-cp310-manylinux_2_17_x86_64.manylinux2014_x86_64.whl.metadata (4.1 kB)\n",
            "Requirement already satisfied: absl-py>=1.0.0 in /usr/local/lib/python3.10/dist-packages (from tensorflow==2.14.0) (1.4.0)\n",
            "Requirement already satisfied: astunparse>=1.6.0 in /usr/local/lib/python3.10/dist-packages (from tensorflow==2.14.0) (1.6.3)\n",
            "Requirement already satisfied: flatbuffers>=23.5.26 in /usr/local/lib/python3.10/dist-packages (from tensorflow==2.14.0) (24.3.25)\n",
            "Requirement already satisfied: gast!=0.5.0,!=0.5.1,!=0.5.2,>=0.2.1 in /usr/local/lib/python3.10/dist-packages (from tensorflow==2.14.0) (0.6.0)\n",
            "Requirement already satisfied: google-pasta>=0.1.1 in /usr/local/lib/python3.10/dist-packages (from tensorflow==2.14.0) (0.2.0)\n",
            "Requirement already satisfied: h5py>=2.9.0 in /usr/local/lib/python3.10/dist-packages (from tensorflow==2.14.0) (3.11.0)\n",
            "Requirement already satisfied: libclang>=13.0.0 in /usr/local/lib/python3.10/dist-packages (from tensorflow==2.14.0) (18.1.1)\n",
            "Collecting ml-dtypes==0.2.0 (from tensorflow==2.14.0)\n",
            "  Downloading ml_dtypes-0.2.0-cp310-cp310-manylinux_2_17_x86_64.manylinux2014_x86_64.whl.metadata (20 kB)\n",
            "Requirement already satisfied: numpy>=1.23.5 in /usr/local/lib/python3.10/dist-packages (from tensorflow==2.14.0) (1.26.4)\n",
            "Requirement already satisfied: opt-einsum>=2.3.2 in /usr/local/lib/python3.10/dist-packages (from tensorflow==2.14.0) (3.3.0)\n",
            "Requirement already satisfied: packaging in /usr/local/lib/python3.10/dist-packages (from tensorflow==2.14.0) (24.1)\n",
            "Requirement already satisfied: protobuf!=4.21.0,!=4.21.1,!=4.21.2,!=4.21.3,!=4.21.4,!=4.21.5,<5.0.0dev,>=3.20.3 in /usr/local/lib/python3.10/dist-packages (from tensorflow==2.14.0) (3.20.3)\n",
            "Requirement already satisfied: setuptools in /usr/local/lib/python3.10/dist-packages (from tensorflow==2.14.0) (71.0.4)\n",
            "Requirement already satisfied: six>=1.12.0 in /usr/local/lib/python3.10/dist-packages (from tensorflow==2.14.0) (1.16.0)\n",
            "Requirement already satisfied: termcolor>=1.1.0 in /usr/local/lib/python3.10/dist-packages (from tensorflow==2.14.0) (2.4.0)\n",
            "Requirement already satisfied: typing-extensions>=3.6.6 in /usr/local/lib/python3.10/dist-packages (from tensorflow==2.14.0) (4.12.2)\n",
            "Collecting wrapt<1.15,>=1.11.0 (from tensorflow==2.14.0)\n",
            "  Downloading wrapt-1.14.1-cp310-cp310-manylinux_2_5_x86_64.manylinux1_x86_64.manylinux_2_17_x86_64.manylinux2014_x86_64.whl.metadata (6.7 kB)\n",
            "Requirement already satisfied: tensorflow-io-gcs-filesystem>=0.23.1 in /usr/local/lib/python3.10/dist-packages (from tensorflow==2.14.0) (0.37.1)\n",
            "Requirement already satisfied: grpcio<2.0,>=1.24.3 in /usr/local/lib/python3.10/dist-packages (from tensorflow==2.14.0) (1.64.1)\n",
            "Collecting tensorboard<2.15,>=2.14 (from tensorflow==2.14.0)\n",
            "  Downloading tensorboard-2.14.1-py3-none-any.whl.metadata (1.7 kB)\n",
            "Collecting tensorflow-estimator<2.15,>=2.14.0 (from tensorflow==2.14.0)\n",
            "  Downloading tensorflow_estimator-2.14.0-py2.py3-none-any.whl.metadata (1.3 kB)\n",
            "Collecting keras<2.15,>=2.14.0 (from tensorflow==2.14.0)\n",
            "  Downloading keras-2.14.0-py3-none-any.whl.metadata (2.4 kB)\n",
            "Requirement already satisfied: wheel<1.0,>=0.23.0 in /usr/local/lib/python3.10/dist-packages (from astunparse>=1.6.0->tensorflow==2.14.0) (0.44.0)\n",
            "Requirement already satisfied: google-auth<3,>=1.6.3 in /usr/local/lib/python3.10/dist-packages (from tensorboard<2.15,>=2.14->tensorflow==2.14.0) (2.27.0)\n",
            "Collecting google-auth-oauthlib<1.1,>=0.5 (from tensorboard<2.15,>=2.14->tensorflow==2.14.0)\n",
            "  Downloading google_auth_oauthlib-1.0.0-py2.py3-none-any.whl.metadata (2.7 kB)\n",
            "Requirement already satisfied: markdown>=2.6.8 in /usr/local/lib/python3.10/dist-packages (from tensorboard<2.15,>=2.14->tensorflow==2.14.0) (3.6)\n",
            "Requirement already satisfied: requests<3,>=2.21.0 in /usr/local/lib/python3.10/dist-packages (from tensorboard<2.15,>=2.14->tensorflow==2.14.0) (2.32.3)\n",
            "Requirement already satisfied: tensorboard-data-server<0.8.0,>=0.7.0 in /usr/local/lib/python3.10/dist-packages (from tensorboard<2.15,>=2.14->tensorflow==2.14.0) (0.7.2)\n",
            "Requirement already satisfied: werkzeug>=1.0.1 in /usr/local/lib/python3.10/dist-packages (from tensorboard<2.15,>=2.14->tensorflow==2.14.0) (3.0.3)\n",
            "Requirement already satisfied: cachetools<6.0,>=2.0.0 in /usr/local/lib/python3.10/dist-packages (from google-auth<3,>=1.6.3->tensorboard<2.15,>=2.14->tensorflow==2.14.0) (5.4.0)\n",
            "Requirement already satisfied: pyasn1-modules>=0.2.1 in /usr/local/lib/python3.10/dist-packages (from google-auth<3,>=1.6.3->tensorboard<2.15,>=2.14->tensorflow==2.14.0) (0.4.0)\n",
            "Requirement already satisfied: rsa<5,>=3.1.4 in /usr/local/lib/python3.10/dist-packages (from google-auth<3,>=1.6.3->tensorboard<2.15,>=2.14->tensorflow==2.14.0) (4.9)\n",
            "Requirement already satisfied: requests-oauthlib>=0.7.0 in /usr/local/lib/python3.10/dist-packages (from google-auth-oauthlib<1.1,>=0.5->tensorboard<2.15,>=2.14->tensorflow==2.14.0) (1.3.1)\n",
            "Requirement already satisfied: charset-normalizer<4,>=2 in /usr/local/lib/python3.10/dist-packages (from requests<3,>=2.21.0->tensorboard<2.15,>=2.14->tensorflow==2.14.0) (3.3.2)\n",
            "Requirement already satisfied: idna<4,>=2.5 in /usr/local/lib/python3.10/dist-packages (from requests<3,>=2.21.0->tensorboard<2.15,>=2.14->tensorflow==2.14.0) (3.7)\n",
            "Requirement already satisfied: urllib3<3,>=1.21.1 in /usr/local/lib/python3.10/dist-packages (from requests<3,>=2.21.0->tensorboard<2.15,>=2.14->tensorflow==2.14.0) (2.0.7)\n",
            "Requirement already satisfied: certifi>=2017.4.17 in /usr/local/lib/python3.10/dist-packages (from requests<3,>=2.21.0->tensorboard<2.15,>=2.14->tensorflow==2.14.0) (2024.7.4)\n",
            "Requirement already satisfied: MarkupSafe>=2.1.1 in /usr/local/lib/python3.10/dist-packages (from werkzeug>=1.0.1->tensorboard<2.15,>=2.14->tensorflow==2.14.0) (2.1.5)\n",
            "Requirement already satisfied: pyasn1<0.7.0,>=0.4.6 in /usr/local/lib/python3.10/dist-packages (from pyasn1-modules>=0.2.1->google-auth<3,>=1.6.3->tensorboard<2.15,>=2.14->tensorflow==2.14.0) (0.6.0)\n",
            "Requirement already satisfied: oauthlib>=3.0.0 in /usr/local/lib/python3.10/dist-packages (from requests-oauthlib>=0.7.0->google-auth-oauthlib<1.1,>=0.5->tensorboard<2.15,>=2.14->tensorflow==2.14.0) (3.2.2)\n",
            "Downloading tensorflow-2.14.0-cp310-cp310-manylinux_2_17_x86_64.manylinux2014_x86_64.whl (489.8 MB)\n",
            "\u001b[2K   \u001b[90m━━━━━━━━━━━━━━━━━━━━━━━━━━━━━━━━━━━━━━━━\u001b[0m \u001b[32m489.8/489.8 MB\u001b[0m \u001b[31m3.5 MB/s\u001b[0m eta \u001b[36m0:00:00\u001b[0m\n",
            "\u001b[?25hDownloading ml_dtypes-0.2.0-cp310-cp310-manylinux_2_17_x86_64.manylinux2014_x86_64.whl (1.0 MB)\n",
            "\u001b[2K   \u001b[90m━━━━━━━━━━━━━━━━━━━━━━━━━━━━━━━━━━━━━━━━\u001b[0m \u001b[32m1.0/1.0 MB\u001b[0m \u001b[31m48.5 MB/s\u001b[0m eta \u001b[36m0:00:00\u001b[0m\n",
            "\u001b[?25hDownloading keras-2.14.0-py3-none-any.whl (1.7 MB)\n",
            "\u001b[2K   \u001b[90m━━━━━━━━━━━━━━━━━━━━━━━━━━━━━━━━━━━━━━━━\u001b[0m \u001b[32m1.7/1.7 MB\u001b[0m \u001b[31m64.3 MB/s\u001b[0m eta \u001b[36m0:00:00\u001b[0m\n",
            "\u001b[?25hDownloading tensorboard-2.14.1-py3-none-any.whl (5.5 MB)\n",
            "\u001b[2K   \u001b[90m━━━━━━━━━━━━━━━━━━━━━━━━━━━━━━━━━━━━━━━━\u001b[0m \u001b[32m5.5/5.5 MB\u001b[0m \u001b[31m94.7 MB/s\u001b[0m eta \u001b[36m0:00:00\u001b[0m\n",
            "\u001b[?25hDownloading tensorflow_estimator-2.14.0-py2.py3-none-any.whl (440 kB)\n",
            "\u001b[2K   \u001b[90m━━━━━━━━━━━━━━━━━━━━━━━━━━━━━━━━━━━━━━━━\u001b[0m \u001b[32m440.7/440.7 kB\u001b[0m \u001b[31m28.6 MB/s\u001b[0m eta \u001b[36m0:00:00\u001b[0m\n",
            "\u001b[?25hDownloading wrapt-1.14.1-cp310-cp310-manylinux_2_5_x86_64.manylinux1_x86_64.manylinux_2_17_x86_64.manylinux2014_x86_64.whl (77 kB)\n",
            "\u001b[2K   \u001b[90m━━━━━━━━━━━━━━━━━━━━━━━━━━━━━━━━━━━━━━━━\u001b[0m \u001b[32m77.9/77.9 kB\u001b[0m \u001b[31m6.3 MB/s\u001b[0m eta \u001b[36m0:00:00\u001b[0m\n",
            "\u001b[?25hDownloading google_auth_oauthlib-1.0.0-py2.py3-none-any.whl (18 kB)\n",
            "Installing collected packages: wrapt, tensorflow-estimator, ml-dtypes, keras, google-auth-oauthlib, tensorboard, tensorflow\n",
            "  Attempting uninstall: wrapt\n",
            "    Found existing installation: wrapt 1.16.0\n",
            "    Uninstalling wrapt-1.16.0:\n",
            "      Successfully uninstalled wrapt-1.16.0\n",
            "  Attempting uninstall: ml-dtypes\n",
            "    Found existing installation: ml-dtypes 0.4.0\n",
            "    Uninstalling ml-dtypes-0.4.0:\n",
            "      Successfully uninstalled ml-dtypes-0.4.0\n",
            "  Attempting uninstall: keras\n",
            "    Found existing installation: keras 3.4.1\n",
            "    Uninstalling keras-3.4.1:\n",
            "      Successfully uninstalled keras-3.4.1\n",
            "  Attempting uninstall: google-auth-oauthlib\n",
            "    Found existing installation: google-auth-oauthlib 1.2.1\n",
            "    Uninstalling google-auth-oauthlib-1.2.1:\n",
            "      Successfully uninstalled google-auth-oauthlib-1.2.1\n",
            "  Attempting uninstall: tensorboard\n",
            "    Found existing installation: tensorboard 2.17.0\n",
            "    Uninstalling tensorboard-2.17.0:\n",
            "      Successfully uninstalled tensorboard-2.17.0\n",
            "\u001b[31mERROR: pip's dependency resolver does not currently take into account all the packages that are installed. This behaviour is the source of the following dependency conflicts.\n",
            "tensorstore 0.1.64 requires ml-dtypes>=0.3.1, but you have ml-dtypes 0.2.0 which is incompatible.\n",
            "tf-keras 2.17.0 requires tensorflow<2.18,>=2.17, but you have tensorflow 2.14.0 which is incompatible.\u001b[0m\u001b[31m\n",
            "\u001b[0mSuccessfully installed google-auth-oauthlib-1.0.0 keras-2.14.0 ml-dtypes-0.2.0 tensorboard-2.14.1 tensorflow-2.14.0 tensorflow-estimator-2.14.0 wrapt-1.14.1\n"
          ]
        }
      ]
    },
    {
      "cell_type": "code",
      "source": [
        "import tensorflow as tf\n",
        "print(tf.__version__)\n"
      ],
      "metadata": {
        "id": "ZdbBMmp9uWUu",
        "colab": {
          "base_uri": "https://localhost:8080/"
        },
        "outputId": "fd1ab3dc-0a6f-4540-b705-e732c0b978dd"
      },
      "execution_count": null,
      "outputs": [
        {
          "output_type": "stream",
          "name": "stdout",
          "text": [
            "2.14.0\n"
          ]
        }
      ]
    },
    {
      "cell_type": "markdown",
      "source": [
        "#Imports necesarios"
      ],
      "metadata": {
        "id": "OJMEcH39rumt"
      }
    },
    {
      "cell_type": "code",
      "source": [
        "pip install split_folders"
      ],
      "metadata": {
        "id": "B7rkvHr0s43U",
        "colab": {
          "base_uri": "https://localhost:8080/"
        },
        "outputId": "7d4c32a3-abf1-4ed2-e146-4ab968913aca"
      },
      "execution_count": null,
      "outputs": [
        {
          "output_type": "stream",
          "name": "stdout",
          "text": [
            "Collecting split_folders\n",
            "  Downloading split_folders-0.5.1-py3-none-any.whl.metadata (6.2 kB)\n",
            "Downloading split_folders-0.5.1-py3-none-any.whl (8.4 kB)\n",
            "Installing collected packages: split_folders\n",
            "Successfully installed split_folders-0.5.1\n"
          ]
        }
      ]
    },
    {
      "cell_type": "code",
      "source": [
        "from psutil import virtual_memory\n",
        "from google.colab import drive\n",
        "from pathlib import Path\n",
        "import os #lectura o escritura en el sistema de archivos.\n",
        "import matplotlib.pyplot as plt #proporciona una interfaz similar a MATLAB para la creación de gráficos y figuras.\n",
        "import numpy as np #fundamental para la computación científica en Python, proporcionando soporte para matrices y operaciones matemáticas de alto rendimiento.\n",
        "import tensorflow as tf #TensorFlow es una biblioteca de código abierto para el aprendizaje automático,\n",
        "from tensorflow import keras #Keras es una API de alto nivel para construir y entrenar modelos de aprendizaje profundo.\n",
        "import splitfolders\n",
        "from tensorflow.keras.preprocessing.image import ImageDataGenerator\n",
        "from tensorflow.keras.applications import ResNet50\n",
        "from tensorflow.keras.models import Sequential\n",
        "from tensorflow.keras.layers import Dense,Dropout, GlobalAveragePooling2D\n",
        "from tensorflow.keras.optimizers import Adam\n",
        "import datetime\n",
        "from tensorflow.keras.callbacks import ModelCheckpoint, EarlyStopping, TensorBoard\n",
        "import cv2\n",
        "import json\n",
        "from tensorflow.keras.regularizers import l2\n",
        "from tensorflow.keras.preprocessing import image\n",
        "\n",
        "from keras.models import Model\n",
        "\n",
        "\n"
      ],
      "metadata": {
        "id": "UQ_xIUySMGKm"
      },
      "execution_count": null,
      "outputs": []
    },
    {
      "cell_type": "markdown",
      "source": [
        "#  Montaje del drive y organización de directorios\n",
        "\n"
      ],
      "metadata": {
        "id": "iGC5FiSQeycO"
      }
    },
    {
      "cell_type": "code",
      "metadata": {
        "colab": {
          "base_uri": "https://localhost:8080/"
        },
        "id": "oirfISxsQC1R",
        "outputId": "fc24e71a-9c7a-4282-b40f-c029d8aef1c5"
      },
      "source": [
        "drive.mount('/content/gdrive/')"
      ],
      "execution_count": null,
      "outputs": [
        {
          "output_type": "stream",
          "name": "stdout",
          "text": [
            "Mounted at /content/gdrive/\n"
          ]
        }
      ]
    },
    {
      "cell_type": "markdown",
      "source": [
        "Añadimos la ruta en la que vamos a tener los datasheets y la sacamos por pantalla para ver si es correcta."
      ],
      "metadata": {
        "id": "j73Vzx9Ze6sR"
      }
    },
    {
      "cell_type": "markdown",
      "source": [
        "# Configurar nuestro propio modelo y usar el modelo preentrenado ResNet50"
      ],
      "metadata": {
        "id": "uzWkDuKbyFFD"
      }
    },
    {
      "cell_type": "code",
      "source": [
        "# Cargar el modelo base ResNet50 preentrenado en ImageNet sin la parte superior\n",
        "base_model = ResNet50(weights='imagenet', include_top=False, input_shape=(200, 200, 3))\n",
        "\n",
        "# Descongelar todas las capas del modelo base\n",
        "base_model.trainable = True\n",
        "\n",
        "# Crear un nuevo modelo\n",
        "model = Sequential([\n",
        "    base_model,\n",
        "    GlobalAveragePooling2D(),\n",
        "    Dense(512, activation='relu'),\n",
        "    Dropout(0.5),\n",
        "    Dense(256, activation='relu'),\n",
        "    Dropout(0.5),\n",
        "    Dense(128, activation='relu'),\n",
        "    Dropout(0.5),\n",
        "    Dense(34, activation='softmax')  # 34 clases\n",
        "])\n",
        "\n",
        "# Compilar el modelo\n",
        "model.compile(optimizer=Adam(learning_rate=0.00001), loss='categorical_crossentropy', metrics=['accuracy']) #lr está obsoleto, hay que usar learning_rate\n",
        "\n",
        "\n"
      ],
      "metadata": {
        "colab": {
          "base_uri": "https://localhost:8080/"
        },
        "id": "UQLAMFqCXq-M",
        "outputId": "ffcdcdb3-2d8e-4932-a782-2e74967ccb22"
      },
      "execution_count": null,
      "outputs": [
        {
          "output_type": "stream",
          "name": "stdout",
          "text": [
            "Downloading data from https://storage.googleapis.com/tensorflow/keras-applications/resnet/resnet50_weights_tf_dim_ordering_tf_kernels_notop.h5\n",
            "94765736/94765736 [==============================] - 1s 0us/step\n"
          ]
        }
      ]
    },
    {
      "cell_type": "markdown",
      "source": [
        "# Obtener clases para entrenamiento"
      ],
      "metadata": {
        "id": "yuJR3BZitQLA"
      }
    },
    {
      "cell_type": "markdown",
      "source": [
        "Obtener una lista de clases a partir de un conjunto de datos organizado en subdirectorios, donde cada subdirectorio representa una clase. Esta lista puede luego ser utilizada en la configuración de generadores de datos para entrenamiento y validación"
      ],
      "metadata": {
        "id": "T-7b9Owwh1ay"
      }
    },
    {
      "cell_type": "code",
      "metadata": {
        "id": "o3h-GdRkUkxn"
      },
      "source": [
        "#SI DESEAS AÑADIR ALGUNA CLASE NUEVA CON SUS RESPECTIVAS FOTOS, TAN SOLO AÑADELAS AL DRIVE DE ESTA CELDA.\n",
        "rutaClases=Path('gdrive/My Drive/plantasIvan/newplantvillage')\n",
        "\n",
        "print(rutaClases)\n",
        "\n",
        "#Enlace disponible con las clases usadas\n",
        "#https://drive.google.com/drive/folders/1hOImmBNjVnLyFUuxx65dqeo6ygJYnTjJ?usp=sharing\n"
      ],
      "execution_count": null,
      "outputs": []
    },
    {
      "cell_type": "code",
      "metadata": {
        "id": "NttA86B8rEte"
      },
      "source": [
        "\n",
        "# Filtrar y ordenar los subdirectorios\n",
        "classes_train = sorted(list(filter(lambda x: os.path.isdir('/content/gdrive/MyDrive/plantasIvan/newplantvillage/' + x), os.listdir('/content/gdrive/MyDrive/plantasIvan/newplantvillage/'))))\n"
      ],
      "execution_count": null,
      "outputs": []
    },
    {
      "cell_type": "markdown",
      "source": [
        "Imprimimos la lista de clases"
      ],
      "metadata": {
        "id": "Lza3Zseah8gB"
      }
    },
    {
      "cell_type": "code",
      "metadata": {
        "colab": {
          "base_uri": "https://localhost:8080/"
        },
        "id": "XuWR5kFcrYcP",
        "outputId": "c75e02bf-9ef5-4b8b-c5ab-3ac25638c182"
      },
      "source": [
        "print(classes_train) #to show names of all classes"
      ],
      "execution_count": null,
      "outputs": [
        {
          "output_type": "stream",
          "name": "stdout",
          "text": [
            "['Apple___Apple_scab', 'Apple___Black_rot', 'Apple___Cedar_apple_rust', 'Apple___healthy', 'Blueberry___healthy', 'Cherry_(including_sour)___Powdery_mildew', 'Cherry_(including_sour)___healthy', 'Grape___Black_rot', 'Grape___Esca_(Black_Measles)', 'Grape___Leaf_blight_(Isariopsis_Leaf_Spot)', 'Grape___healthy', 'Orange___Haunglongbing_(Citrus_greening)', 'Peach___Bacterial_spot', 'Peach___healthy', 'Pepper,_bell___Bacterial_spot', 'Pepper,_bell___healthy', 'Potato___Early_blight', 'Potato___Late_blight', 'Potato___healthy', 'Raspberry___healthy', 'Soybean___healthy', 'Squash___Powdery_mildew', 'Strawberry___Leaf_scorch', 'Strawberry___healthy', 'Tomato___Bacterial_spot', 'Tomato___Early_blight', 'Tomato___Late_blight', 'Tomato___Leaf_Mold', 'Tomato___Septoria_leaf_spot', 'Tomato___Spider_mites Two-spotted_spider_mite', 'Tomato___Target_Spot', 'Tomato___Tomato_Yellow_Leaf_Curl_Virus', 'Tomato___Tomato_mosaic_virus', 'Tomato___healthy']\n"
          ]
        }
      ]
    },
    {
      "cell_type": "markdown",
      "source": [
        "La biblioteca split_folders se utiliza para dividir automáticamente carpetas que contienen conjuntos de datos en subconjuntos de entrenamiento, validación y prueba"
      ],
      "metadata": {
        "id": "krDYlFthilim"
      }
    },
    {
      "cell_type": "markdown",
      "source": [
        "# split_folders"
      ],
      "metadata": {
        "id": "B1SFgYnFO7LM"
      }
    },
    {
      "cell_type": "markdown",
      "source": [
        "Este código toma las imágenes de una carpeta de entrada, las divide en un 80% para entrenamiento y un 20% para validación, y guarda estos conjuntos en una carpeta de salida llamada \"output\", asegurando que la división sea reproducible mediante el uso de una semilla específica.\n",
        "\n",
        "\n",
        "\n",
        "\n",
        "\n"
      ],
      "metadata": {
        "id": "8aj9ITmHX8tt"
      }
    },
    {
      "cell_type": "code",
      "metadata": {
        "colab": {
          "base_uri": "https://localhost:8080/"
        },
        "id": "5V5ZQwOvsCQR",
        "outputId": "930172d0-3258-4d60-8267-982301991831"
      },
      "source": [
        "\n",
        "input_folder=root_path\n",
        "splitfolders.ratio(input_folder, output=\"output\", seed=1337, ratio=(.8,.2)) #default values\""
      ],
      "execution_count": null,
      "outputs": [
        {
          "output_type": "stream",
          "name": "stderr",
          "text": [
            "Copying files: 62979 files [09:57, 105.43 files/s]\n"
          ]
        }
      ]
    },
    {
      "cell_type": "markdown",
      "source": [
        "# Aumento de datos (Data Augmentation) y generadores"
      ],
      "metadata": {
        "id": "xLCFyHPmPBJk"
      }
    },
    {
      "cell_type": "markdown",
      "source": [
        "Este código configura dos generadores de datos para un modelo de aprendizaje profundo utilizando TensorFlow Keras. El generador de entrenamiento procesa imágenes de la carpeta de entrenamiento y el generador de validación procesa imágenes de la carpeta de validación, ambas con imágenes redimensionadas a 200x200 píxeles y normalizadas."
      ],
      "metadata": {
        "id": "wgb4hYuxcr8e"
      }
    },
    {
      "cell_type": "code",
      "metadata": {
        "colab": {
          "base_uri": "https://localhost:8080/"
        },
        "id": "2dXXrnBCtLBr",
        "outputId": "cb60b36a-f9bd-4a2d-e9c6-338abd71a993"
      },
      "source": [
        "batch_size = 128  # Ejemplo de ajuste\n",
        "\n",
        "\n",
        "# Aumento de datos para el conjunto de entrenamiento\n",
        "train_datagen = ImageDataGenerator(\n",
        "    rescale=1/255,\n",
        "    rotation_range=40,\n",
        "    width_shift_range=0.2,\n",
        "    height_shift_range=0.2,\n",
        "    shear_range=0.2,\n",
        "    zoom_range=0.2,\n",
        "    horizontal_flip=True,\n",
        "    brightness_range=[0.8, 1.2],  # Rango de brillo\n",
        "    channel_shift_range=50.0,  # Desplazamiento de canal\n",
        "    fill_mode='nearest'\n",
        ")\n",
        "\n",
        "# Generador de datos de entrenamiento\n",
        "train_generator = train_datagen.flow_from_directory(\n",
        "    '/content/output/train',\n",
        "    target_size=(200, 200),\n",
        "    batch_size=batch_size,\n",
        "    class_mode='categorical'\n",
        ")\n",
        "\n",
        "# Aumento de datos para el conjunto de validación (opcional, moderado)\n",
        "val_datagen = ImageDataGenerator(\n",
        "    rescale=1/255,\n",
        "    brightness_range=[0.9, 1.1]  # Variación ligera en el brillo\n",
        ")\n",
        "\n",
        "val_generator = val_datagen.flow_from_directory(\n",
        "    '/content/output/val',\n",
        "    target_size=(200, 200),\n",
        "    batch_size=batch_size,\n",
        "    class_mode='categorical'\n",
        ")\n"
      ],
      "execution_count": null,
      "outputs": [
        {
          "output_type": "stream",
          "name": "stdout",
          "text": [
            "Found 50368 images belonging to 34 classes.\n",
            "Found 12611 images belonging to 34 classes.\n"
          ]
        }
      ]
    },
    {
      "cell_type": "markdown",
      "source": [
        "# Entrenamiento"
      ],
      "metadata": {
        "id": "LCLDBExYP1vN"
      }
    },
    {
      "cell_type": "code",
      "source": [
        "import datetime\n",
        "from tensorflow.keras.callbacks import TensorBoard, ModelCheckpoint, EarlyStopping, ReduceLROnPlateau\n",
        "\n",
        "# Directorio de logs para TensorBoard\n",
        "log_dir = \"logs/fit/\" + datetime.datetime.now().strftime(\"%Y%m%d-%H%M%S\")\n",
        "tensorboard_callback = TensorBoard(log_dir=log_dir, histogram_freq=1)\n",
        "\n",
        "# Callback para guardar el mejor modelo con más frecuencia utilizando save_freq\n",
        "checkpoint = ModelCheckpoint(\n",
        "    \"model_mejoras.h5\",\n",
        "    monitor='val_loss',\n",
        "    verbose=1,\n",
        "    save_best_only=True,\n",
        "    save_weights_only=False,\n",
        "    mode='auto',\n",
        "    save_freq='epoch'  # Guardar el modelo al final de cada época\n",
        ")\n",
        "\n",
        "# Callback para detener el entrenamiento temprano si no hay mejora con mayor paciencia\n",
        "early_stopping = EarlyStopping(\n",
        "    monitor='val_loss',\n",
        "    patience=10,  # Incrementar la paciencia\n",
        "    verbose=1,\n",
        "    restore_best_weights=True\n",
        ")\n",
        "\n",
        "# Callback para reducir la tasa de aprendizaje si no hay mejora\n",
        "reduce_lr = ReduceLROnPlateau(\n",
        "    monitor='val_loss',\n",
        "    factor=0.2,\n",
        "    patience=5,\n",
        "    verbose=1,\n",
        "    min_lr=1e-6\n",
        ")\n",
        "\n",
        "# Lista de callbacks\n",
        "callbacks = [checkpoint, early_stopping, tensorboard_callback, reduce_lr]\n",
        "\n",
        "# Número de épocas incrementado\n",
        "epochs = 12\n",
        "steps_per_epoch = train_generator.n // train_generator.batch_size\n",
        "validation_steps = val_generator.n // val_generator.batch_size\n",
        "\n",
        "history = model.fit(\n",
        "    train_generator,\n",
        "    steps_per_epoch=steps_per_epoch,\n",
        "    epochs=epochs,\n",
        "    validation_data=val_generator,\n",
        "    validation_steps=validation_steps,\n",
        "    callbacks=callbacks\n",
        ")\n"
      ],
      "metadata": {
        "colab": {
          "base_uri": "https://localhost:8080/"
        },
        "id": "yw8-2Eq235AU",
        "outputId": "9c677f78-19a1-4546-c374-6d8c6bf01d61"
      },
      "execution_count": null,
      "outputs": [
        {
          "metadata": {
            "tags": null
          },
          "name": "stdout",
          "output_type": "stream",
          "text": [
            "Epoch 1/12\n",
            "393/393 [==============================] - ETA: 0s - loss: 3.0442 - accuracy: 0.4933\n",
            "Epoch 1: val_loss improved from inf to 4.82701, saving model to model_mejoras.h5\n"
          ]
        },
        {
          "metadata": {
            "tags": null
          },
          "name": "stderr",
          "output_type": "stream",
          "text": [
            "/usr/local/lib/python3.10/dist-packages/keras/src/engine/training.py:3079: UserWarning: You are saving your model as an HDF5 file via `model.save()`. This file format is considered legacy. We recommend using instead the native Keras format, e.g. `model.save('my_model.keras')`.\n",
            "  saving_api.save_model(\n"
          ]
        },
        {
          "output_type": "stream",
          "name": "stdout",
          "text": [
            "393/393 [==============================] - 2788s 7s/step - loss: 3.0442 - accuracy: 0.4933 - val_loss: 4.8270 - val_accuracy: 0.0312 - lr: 0.0100\n",
            "Epoch 2/12\n",
            "393/393 [==============================] - ETA: 0s - loss: 1.4709 - accuracy: 0.9043\n",
            "Epoch 2: val_loss did not improve from 4.82701\n",
            "393/393 [==============================] - 2753s 7s/step - loss: 1.4709 - accuracy: 0.9043 - val_loss: 7.4095 - val_accuracy: 0.0776 - lr: 0.0100\n",
            "Epoch 3/12\n",
            "393/393 [==============================] - ETA: 0s - loss: 1.1312 - accuracy: 0.9527\n",
            "Epoch 3: val_loss improved from 4.82701 to 2.17276, saving model to model_mejoras.h5\n",
            "393/393 [==============================] - 2758s 7s/step - loss: 1.1312 - accuracy: 0.9527 - val_loss: 2.1728 - val_accuracy: 0.7949 - lr: 0.0100\n",
            "Epoch 4/12\n",
            "393/393 [==============================] - ETA: 0s - loss: 0.9541 - accuracy: 0.9672\n",
            "Epoch 4: val_loss improved from 2.17276 to 1.26197, saving model to model_mejoras.h5\n",
            "393/393 [==============================] - 2761s 7s/step - loss: 0.9541 - accuracy: 0.9672 - val_loss: 1.2620 - val_accuracy: 0.8838 - lr: 0.0100\n",
            "Epoch 5/12\n",
            "393/393 [==============================] - ETA: 0s - loss: 0.8070 - accuracy: 0.9761\n",
            "Epoch 5: val_loss improved from 1.26197 to 0.85972, saving model to model_mejoras.h5\n",
            "393/393 [==============================] - 2755s 7s/step - loss: 0.8070 - accuracy: 0.9761 - val_loss: 0.8597 - val_accuracy: 0.9605 - lr: 0.0100\n",
            "Epoch 6/12\n",
            "393/393 [==============================] - ETA: 0s - loss: 0.6996 - accuracy: 0.9787\n",
            "Epoch 6: val_loss did not improve from 0.85972\n",
            "393/393 [==============================] - 2759s 7s/step - loss: 0.6996 - accuracy: 0.9787 - val_loss: 1.0204 - val_accuracy: 0.9036 - lr: 0.0100\n",
            "Epoch 7/12\n",
            "393/393 [==============================] - ETA: 0s - loss: 0.5917 - accuracy: 0.9847\n",
            "Epoch 7: val_loss improved from 0.85972 to 0.80452, saving model to model_mejoras.h5\n",
            "393/393 [==============================] - 2760s 7s/step - loss: 0.5917 - accuracy: 0.9847 - val_loss: 0.8045 - val_accuracy: 0.9296 - lr: 0.0100\n",
            "Epoch 8/12\n",
            "393/393 [==============================] - ETA: 0s - loss: 0.5165 - accuracy: 0.9863\n",
            "Epoch 8: val_loss improved from 0.80452 to 0.79404, saving model to model_mejoras.h5\n",
            "393/393 [==============================] - 2751s 7s/step - loss: 0.5165 - accuracy: 0.9863 - val_loss: 0.7940 - val_accuracy: 0.9435 - lr: 0.0100\n",
            "Epoch 9/12\n",
            "393/393 [==============================] - ETA: 0s - loss: 0.4442 - accuracy: 0.9890\n",
            "Epoch 9: val_loss did not improve from 0.79404\n",
            "393/393 [==============================] - 2749s 7s/step - loss: 0.4442 - accuracy: 0.9890 - val_loss: 0.8116 - val_accuracy: 0.9051 - lr: 0.0100\n",
            "Epoch 10/12\n",
            "393/393 [==============================] - ETA: 0s - loss: 0.3835 - accuracy: 0.9903\n",
            "Epoch 10: val_loss did not improve from 0.79404\n",
            "393/393 [==============================] - 2755s 7s/step - loss: 0.3835 - accuracy: 0.9903 - val_loss: 1.0206 - val_accuracy: 0.8755 - lr: 0.0100\n",
            "Epoch 11/12\n",
            "393/393 [==============================] - ETA: 0s - loss: 0.3458 - accuracy: 0.9893\n",
            "Epoch 11: val_loss improved from 0.79404 to 0.50486, saving model to model_mejoras.h5\n",
            "393/393 [==============================] - 2759s 7s/step - loss: 0.3458 - accuracy: 0.9893 - val_loss: 0.5049 - val_accuracy: 0.9491 - lr: 0.0100\n",
            "Epoch 12/12\n",
            "393/393 [==============================] - ETA: 0s - loss: 0.3020 - accuracy: 0.9912\n",
            "Epoch 12: val_loss did not improve from 0.50486\n",
            "393/393 [==============================] - 2759s 7s/step - loss: 0.3020 - accuracy: 0.9912 - val_loss: 0.7909 - val_accuracy: 0.9233 - lr: 0.0100\n"
          ]
        }
      ]
    },
    {
      "cell_type": "markdown",
      "source": [
        "# Descargar modelo para no tener que volver a entrenarlo cada vez que lo queramos usar (En ese caso ir al notebook de Cargar Modelo)"
      ],
      "metadata": {
        "id": "o34jme4hP_Yk"
      }
    },
    {
      "cell_type": "code",
      "source": [
        "from google.colab import files\n",
        "\n",
        "# Descargar el archivo .h5 a tu ordenador\n",
        "files.download('/content/modelo.h5')"
      ],
      "metadata": {
        "id": "inKx8U-NjBoG",
        "colab": {
          "base_uri": "https://localhost:8080/",
          "height": 17
        },
        "outputId": "dcb9e3c4-50f0-46ac-f644-b9542daee4d5"
      },
      "execution_count": null,
      "outputs": [
        {
          "output_type": "display_data",
          "data": {
            "text/plain": [
              "<IPython.core.display.Javascript object>"
            ],
            "application/javascript": [
              "\n",
              "    async function download(id, filename, size) {\n",
              "      if (!google.colab.kernel.accessAllowed) {\n",
              "        return;\n",
              "      }\n",
              "      const div = document.createElement('div');\n",
              "      const label = document.createElement('label');\n",
              "      label.textContent = `Downloading \"${filename}\": `;\n",
              "      div.appendChild(label);\n",
              "      const progress = document.createElement('progress');\n",
              "      progress.max = size;\n",
              "      div.appendChild(progress);\n",
              "      document.body.appendChild(div);\n",
              "\n",
              "      const buffers = [];\n",
              "      let downloaded = 0;\n",
              "\n",
              "      const channel = await google.colab.kernel.comms.open(id);\n",
              "      // Send a message to notify the kernel that we're ready.\n",
              "      channel.send({})\n",
              "\n",
              "      for await (const message of channel.messages) {\n",
              "        // Send a message to notify the kernel that we're ready.\n",
              "        channel.send({})\n",
              "        if (message.buffers) {\n",
              "          for (const buffer of message.buffers) {\n",
              "            buffers.push(buffer);\n",
              "            downloaded += buffer.byteLength;\n",
              "            progress.value = downloaded;\n",
              "          }\n",
              "        }\n",
              "      }\n",
              "      const blob = new Blob(buffers, {type: 'application/binary'});\n",
              "      const a = document.createElement('a');\n",
              "      a.href = window.URL.createObjectURL(blob);\n",
              "      a.download = filename;\n",
              "      div.appendChild(a);\n",
              "      a.click();\n",
              "      div.remove();\n",
              "    }\n",
              "  "
            ]
          },
          "metadata": {}
        },
        {
          "output_type": "display_data",
          "data": {
            "text/plain": [
              "<IPython.core.display.Javascript object>"
            ],
            "application/javascript": [
              "download(\"download_46ee31fe-024f-4f41-ab37-a84471cbcc85\", \"model_mejoras.h5\", 198811128)"
            ]
          },
          "metadata": {}
        }
      ]
    },
    {
      "cell_type": "markdown",
      "source": [
        "# Probar clasificación de imagenes"
      ],
      "metadata": {
        "id": "8Csubp7qP3jk"
      }
    },
    {
      "cell_type": "code",
      "source": [
        "# Prueba del modelo con imágenes propias\n",
        "# Listar todas las imágenes en el directorio de pruebas\n",
        "test_images = [f for f in os.listdir('/content/test_imgs/') if f.endswith('.jpg') or f.endswith('.png') or f.endswith('.JPG')  or f.endswith('.jpeg')]\n",
        "dataset = np.ndarray(shape=(len(test_images), 200, 200, 3))\n",
        "\n",
        "# Cargar y redimensionar las imágenes\n",
        "for i, file_name in enumerate(test_images):\n",
        "    try:\n",
        "        img_path = os.path.join('/content/test_imgs/', file_name)\n",
        "        img = cv2.imread(img_path)\n",
        "        if img is not None:\n",
        "            img_resize = cv2.resize(img, (200, 200))\n",
        "            dataset[i] = np.array(img_resize) / 255.0\n",
        "        else:\n",
        "            print(f\"Error al cargar la imagen: {file_name}\")\n",
        "    except Exception as e:\n",
        "        print(f\"Error procesando la imagen {file_name}: {e}\")\n",
        "\n",
        "# Verificar las dimensiones del dataset\n",
        "print(\"Shape del dataset:\", dataset.shape)\n",
        "print(f\"Dimensiones de la imagen: {img_resize.shape}\")"
      ],
      "metadata": {
        "id": "0N69r4aDHsPa",
        "colab": {
          "base_uri": "https://localhost:8080/"
        },
        "outputId": "936df004-8e09-47ba-a02a-46400750c518"
      },
      "execution_count": null,
      "outputs": [
        {
          "output_type": "stream",
          "name": "stdout",
          "text": [
            "Shape del dataset: (1, 200, 200, 3)\n",
            "Dimensiones de la imagen: (200, 200, 3)\n"
          ]
        }
      ]
    },
    {
      "cell_type": "code",
      "source": [
        "\n",
        "\n",
        "# Realizar predicciones utilizando el modelo\n",
        "predictions = model.predict(dataset)\n",
        "results = np.argmax(predictions, axis=-1)\n",
        "\n",
        "# Verificar y mostrar la imagen temporal usando matplotlib (opcional)\n",
        "import matplotlib.pyplot as plt\n",
        "plt.imshow(cv2.cvtColor(img_resize, cv2.COLOR_BGR2RGB))\n",
        "plt.title(\"Imagen temporal cargada\")\n",
        "plt.show()\n",
        "\n",
        "# Construcción del diccionario de resultados\n",
        "final_json = {}\n",
        "for file_name, result in zip(test_images, results):\n",
        "    final_json[file_name] = classes_train[result]\n",
        "\n",
        "# Imprimir los resultados\n",
        "print(final_json)\n"
      ],
      "metadata": {
        "id": "JklRVYGnHxst"
      },
      "execution_count": null,
      "outputs": []
    },
    {
      "cell_type": "code",
      "source": [
        "# Funciones para Grad-CAM\n",
        "def get_img_array(img_path, size):\n",
        "    img = image.load_img(img_path, target_size=size)\n",
        "    array = image.img_to_array(img)\n",
        "    array = np.expand_dims(array, axis=0)\n",
        "    return array\n",
        "\n",
        "\n",
        "def make_gradcam_heatmap(img_array, model, last_conv_layer_name, pred_index=None):\n",
        "    # Acceder a la capa específica dentro del submodelo\n",
        "    base_model = model.layers[0]\n",
        "    # Obtener la capa específica dentro del submodelo\n",
        "    # Assuming 'model' is already the base model and not a nested model\n",
        "    last_conv_layer = model.get_layer(last_conv_layer_name)\n",
        "    grad_model = tf.keras.models.Model(\n",
        "        [model.input],\n",
        "        [last_conv_layer.output, model.output]\n",
        "    )\n",
        "\n",
        "\n",
        "\n",
        "    with tf.GradientTape() as tape:\n",
        "        last_conv_layer_output, preds = grad_model(img_array)\n",
        "        if pred_index is None:\n",
        "            pred_index = tf.argmax(preds[0])\n",
        "        class_channel = preds[:, pred_index]\n",
        "\n",
        "    grads = tape.gradient(class_channel, last_conv_layer_output)\n",
        "    pooled_grads = tf.reduce_mean(grads, axis=(0, 1, 2))\n",
        "    last_conv_layer_output = last_conv_layer_output[0]\n",
        "    heatmap = last_conv_layer_output @ pooled_grads[..., tf.newaxis]\n",
        "    heatmap = tf.squeeze(heatmap)\n",
        "    heatmap = tf.maximum(heatmap, 0) / tf.math.reduce_max(heatmap)\n",
        "    return heatmap.numpy()\n",
        "\n",
        "\n",
        "def save_and_display_gradcam(img_path, heatmap, cam_path=\"cam.jpg\", alpha=0.4):\n",
        "    img = cv2.imread(img_path)\n",
        "    heatmap = np.uint8(255 * heatmap)\n",
        "    jet = plt.colormaps.get_cmap(\"jet\")\n",
        "    jet_colors = jet(np.arange(256))[:, :3]\n",
        "    jet_heatmap = jet_colors[heatmap]\n",
        "    jet_heatmap = tf.keras.preprocessing.image.array_to_img(jet_heatmap)\n",
        "    jet_heatmap = jet_heatmap.resize((img.shape[1], img.shape[0]))\n",
        "    jet_heatmap = tf.keras.preprocessing.image.img_to_array(jet_heatmap)\n",
        "    superimposed_img = jet_heatmap * alpha + img\n",
        "    superimposed_img = tf.keras.preprocessing.image.array_to_img(superimposed_img)\n",
        "    superimposed_img.save(cam_path)\n"
      ],
      "metadata": {
        "id": "QdfEcM-_-3RK"
      },
      "execution_count": null,
      "outputs": []
    },
    {
      "cell_type": "markdown",
      "source": [
        "# Verificación de los datos"
      ],
      "metadata": {
        "id": "V106DMtMPl0r"
      }
    },
    {
      "cell_type": "code",
      "source": [
        "# Generar el informe de clasificación\n",
        "report = classification_report(y_true, y_pred, target_names=class_labels)\n",
        "print(report)\n",
        "\n",
        "# Generar la matriz de confusión\n",
        "conf_matrix = confusion_matrix(y_true, y_pred)\n",
        "\n",
        "# Visualizar la matriz de confusión\n",
        "import seaborn as sns\n",
        "import matplotlib.pyplot as plt\n",
        "\n",
        "plt.figure(figsize=(12, 8))\n",
        "sns.heatmap(conf_matrix, annot=True, fmt='d', cmap='Blues', xticklabels=class_labels, yticklabels=class_labels)\n",
        "plt.xlabel('Predicted')\n",
        "plt.ylabel('True')\n",
        "plt.title('Confusion Matrix')\n",
        "plt.show()\n"
      ],
      "metadata": {
        "id": "5GRVv1XSR2Wy"
      },
      "execution_count": null,
      "outputs": []
    },
    {
      "cell_type": "code",
      "source": [
        "from sklearn.metrics import classification_report, confusion_matrix\n",
        "\n",
        "# Obtener las etiquetas verdaderas y las predicciones\n",
        "val_generator.reset()  # Asegurarse de que el generador está en el estado inicial\n",
        "predictions = model.predict(val_generator, steps=val_generator.n // val_generator.batch_size + 1)\n",
        "y_pred = np.argmax(predictions, axis=1)\n",
        "\n",
        "# Obtener las etiquetas verdaderas\n",
        "y_true = val_generator.classes\n",
        "\n",
        "# Obtener los nombres de las clases\n",
        "class_labels = list(val_generator.class_indices.keys())\n"
      ],
      "metadata": {
        "colab": {
          "base_uri": "https://localhost:8080/"
        },
        "id": "wF931AVNRUbr",
        "outputId": "66b2b975-0004-47d9-c3e6-3b13923db577"
      },
      "execution_count": null,
      "outputs": [
        {
          "output_type": "stream",
          "name": "stdout",
          "text": [
            "99/99 [==============================] - 194s 2s/step\n"
          ]
        }
      ]
    },
    {
      "cell_type": "code",
      "source": [
        "# Visualización de la historia del entrenamiento\n",
        "def plot_training_history(history):\n",
        "    acc = history.history['accuracy']\n",
        "    val_acc = history.history['val_accuracy']\n",
        "    loss = history.history['loss']\n",
        "    val_loss = history.history['val_loss']\n",
        "    epochs_range = range(len(acc))\n",
        "\n",
        "    plt.figure(figsize=(12, 8))\n",
        "\n",
        "    plt.subplot(1, 2, 1)\n",
        "    plt.plot(epochs_range, acc, label='Training Accuracy')\n",
        "    plt.plot(epochs_range, val_acc, label='Validation Accuracy')\n",
        "    plt.legend(loc='lower right')\n",
        "    plt.title('Training and Validation Accuracy')\n",
        "\n",
        "    plt.subplot(1, 2, 2)\n",
        "    plt.plot(epochs_range, loss, label='Training Loss')\n",
        "    plt.plot(epochs_range, val_loss, label='Validation Loss')\n",
        "    plt.legend(loc='upper right')\n",
        "    plt.title('Training and Validation Loss')\n",
        "\n",
        "    plt.show()\n",
        "\n",
        "plot_training_history(history)\n"
      ],
      "metadata": {
        "colab": {
          "base_uri": "https://localhost:8080/",
          "height": 699
        },
        "id": "oyRhY9fQHi9p",
        "outputId": "31895edb-7ab6-45a5-f544-96c4407654b0"
      },
      "execution_count": null,
      "outputs": [
        {
          "output_type": "display_data",
          "data": {
            "text/plain": [
              "<Figure size 1200x800 with 2 Axes>"
            ],
            "image/png": "[encoded data removed]"
          },
          "metadata": {}
        }
      ]
    }
  ]
}